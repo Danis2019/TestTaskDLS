{
  "nbformat": 4,
  "nbformat_minor": 0,
  "metadata": {
    "colab": {
      "provenance": [],
      "authorship_tag": "ABX9TyOI2nGt++bmsK4DxpklPZiT",
      "include_colab_link": true
    },
    "kernelspec": {
      "name": "python3",
      "display_name": "Python 3"
    },
    "language_info": {
      "name": "python"
    }
  },
  "cells": [
    {
      "cell_type": "markdown",
      "metadata": {
        "id": "view-in-github",
        "colab_type": "text"
      },
      "source": [
        "<a href=\"https://colab.research.google.com/github/Danis2019/TestTaskDLS/blob/main/TestTaskDLS.ipynb\" target=\"_parent\"><img src=\"https://colab.research.google.com/assets/colab-badge.svg\" alt=\"Open In Colab\"/></a>"
      ]
    },
    {
      "cell_type": "markdown",
      "source": [
        "* Тестовое задание: симулировать динамическое начисление скидки покупателям магазина согласно условиям:\n",
        "** 1.диапазон скидки от 0% до b_max%; размер выбирается случным образом, но при условии, что\n",
        "** 2.общая средневзвешенная скидка по текущей и всем предидущим покупкам на 25% меньше чем b_max/3\n",
        "* опционно: генерировать случайный размер входящих покупок не по равномерному распределению, а по распределению Пуассона с параметром mu=1.8"
      ],
      "metadata": {
        "id": "34eBqokey-Xd"
      }
    },
    {
      "cell_type": "markdown",
      "source": [
        "* 14.06 Генерировать скидку по сиду, завязанному на 2-х датах"
      ],
      "metadata": {
        "id": "XUdVCJhTvWgt"
      }
    },
    {
      "cell_type": "code",
      "execution_count": 75,
      "metadata": {
        "id": "PZ-evBXOyJ2l"
      },
      "outputs": [],
      "source": [
        "import pandas as pd\n",
        "from scipy.stats import poisson\n",
        "from random import randint\n",
        "import numpy as np\n",
        "import random\n",
        "from datetime import date"
      ]
    },
    {
      "cell_type": "code",
      "source": [
        "def puasson():\n",
        "  return poisson.rvs(mu=1.8, size=10)"
      ],
      "metadata": {
        "id": "hO0jA61y5bsm"
      },
      "execution_count": 76,
      "outputs": []
    },
    {
      "cell_type": "code",
      "source": [
        "b_max = randint(10, 50)\n",
        "print(f\"b_max = {b_max}\")"
      ],
      "metadata": {
        "colab": {
          "base_uri": "https://localhost:8080/"
        },
        "id": "9QrB9FKANeVV",
        "outputId": "95608d1f-e42a-4e9d-a52a-ba1863272716"
      },
      "execution_count": 77,
      "outputs": [
        {
          "output_type": "stream",
          "name": "stdout",
          "text": [
            "b_max = 24\n"
          ]
        }
      ]
    },
    {
      "cell_type": "code",
      "source": [
        "print('список цен/покупок:')\n",
        "prices_array = puasson() * 10 + 10\n",
        "prices_array"
      ],
      "metadata": {
        "colab": {
          "base_uri": "https://localhost:8080/"
        },
        "id": "PjHFR3BQWdxw",
        "outputId": "2f10eb37-cc41-425f-c2ab-248da16b5c30"
      },
      "execution_count": 78,
      "outputs": [
        {
          "output_type": "stream",
          "name": "stdout",
          "text": [
            "список цен/покупок:\n"
          ]
        },
        {
          "output_type": "execute_result",
          "data": {
            "text/plain": [
              "array([20, 40, 20, 20, 30, 40, 20, 30, 30, 40])"
            ]
          },
          "metadata": {},
          "execution_count": 78
        }
      ]
    },
    {
      "cell_type": "code",
      "source": [
        "# Вес это цена\n",
        "def create_disсount_v2(df, disounts, weights, product_price, date_begin, date_end):\n",
        "  if len(df) != 0:\n",
        "    d = df[disounts]\n",
        "    w = df[weights]\n",
        "    # Если принять максимальную скидку за X, то можно вывести формулу для максимального значения скидки\n",
        "    person_disount =  (b_max / 4 * (w.sum() + product_price) - (d * w).sum()) / price\n",
        "    random.seed(int(date_begin.strftime(\"%j\") + date_end.strftime(\"%j\")))\n",
        "    return random.uniform(0, person_disount), person_disount\n",
        "  else:\n",
        "    person_disount = random.uniform(0, b_max / 4)\n",
        "    return person_disount, b_max / 4"
      ],
      "metadata": {
        "id": "or2V-06iezgu"
      },
      "execution_count": 79,
      "outputs": []
    },
    {
      "cell_type": "markdown",
      "source": [
        "* Для случаев, где вес это цена"
      ],
      "metadata": {
        "id": "jql4_3lVp9hZ"
      }
    },
    {
      "cell_type": "code",
      "source": [
        "df = pd.DataFrame(columns=['Цена', 'Скидка', 'Вес скидки', 'Максимально доступная скидка'])\n",
        "date_begin = date(2023, 10, 4)\n",
        "date_end = date(2023, 11, 4)\n",
        "for price in prices_array:\n",
        "  discount, max_discount = create_disсount_v2(df, 'Скидка', 'Цена', price, date_begin, date_end)\n",
        "  weight = price\n",
        "  df = pd.concat([pd.DataFrame([[price, discount, weight, max_discount]], columns=df.columns), df], ignore_index=True)\n",
        "df"
      ],
      "metadata": {
        "colab": {
          "base_uri": "https://localhost:8080/",
          "height": 363
        },
        "id": "qDBWMdYHgGTp",
        "outputId": "9137fdc0-c7e6-44f6-8b2f-36bfd7053cbd"
      },
      "execution_count": 101,
      "outputs": [
        {
          "output_type": "execute_result",
          "data": {
            "text/plain": [
              "  Цена    Скидка Вес скидки  Максимально доступная скидка\n",
              "0   40  4.024083         40                     21.677753\n",
              "1   30  4.764908         30                     25.668578\n",
              "2   30  4.483373         30                     24.151951\n",
              "3   20  6.206497         20                     33.434423\n",
              "4   40  3.126783         40                     16.843995\n",
              "5   30  3.295794         30                     17.754454\n",
              "6   20  4.019071         20                     21.650751\n",
              "7   20  3.567526         20                     19.218277\n",
              "8   40  1.506527         40                      8.115665\n",
              "9   20  1.768670         20                      6.000000"
            ],
            "text/html": [
              "\n",
              "  <div id=\"df-d9d9b60a-92a4-4efa-bd18-d3f135dd7baa\">\n",
              "    <div class=\"colab-df-container\">\n",
              "      <div>\n",
              "<style scoped>\n",
              "    .dataframe tbody tr th:only-of-type {\n",
              "        vertical-align: middle;\n",
              "    }\n",
              "\n",
              "    .dataframe tbody tr th {\n",
              "        vertical-align: top;\n",
              "    }\n",
              "\n",
              "    .dataframe thead th {\n",
              "        text-align: right;\n",
              "    }\n",
              "</style>\n",
              "<table border=\"1\" class=\"dataframe\">\n",
              "  <thead>\n",
              "    <tr style=\"text-align: right;\">\n",
              "      <th></th>\n",
              "      <th>Цена</th>\n",
              "      <th>Скидка</th>\n",
              "      <th>Вес скидки</th>\n",
              "      <th>Максимально доступная скидка</th>\n",
              "    </tr>\n",
              "  </thead>\n",
              "  <tbody>\n",
              "    <tr>\n",
              "      <th>0</th>\n",
              "      <td>40</td>\n",
              "      <td>4.024083</td>\n",
              "      <td>40</td>\n",
              "      <td>21.677753</td>\n",
              "    </tr>\n",
              "    <tr>\n",
              "      <th>1</th>\n",
              "      <td>30</td>\n",
              "      <td>4.764908</td>\n",
              "      <td>30</td>\n",
              "      <td>25.668578</td>\n",
              "    </tr>\n",
              "    <tr>\n",
              "      <th>2</th>\n",
              "      <td>30</td>\n",
              "      <td>4.483373</td>\n",
              "      <td>30</td>\n",
              "      <td>24.151951</td>\n",
              "    </tr>\n",
              "    <tr>\n",
              "      <th>3</th>\n",
              "      <td>20</td>\n",
              "      <td>6.206497</td>\n",
              "      <td>20</td>\n",
              "      <td>33.434423</td>\n",
              "    </tr>\n",
              "    <tr>\n",
              "      <th>4</th>\n",
              "      <td>40</td>\n",
              "      <td>3.126783</td>\n",
              "      <td>40</td>\n",
              "      <td>16.843995</td>\n",
              "    </tr>\n",
              "    <tr>\n",
              "      <th>5</th>\n",
              "      <td>30</td>\n",
              "      <td>3.295794</td>\n",
              "      <td>30</td>\n",
              "      <td>17.754454</td>\n",
              "    </tr>\n",
              "    <tr>\n",
              "      <th>6</th>\n",
              "      <td>20</td>\n",
              "      <td>4.019071</td>\n",
              "      <td>20</td>\n",
              "      <td>21.650751</td>\n",
              "    </tr>\n",
              "    <tr>\n",
              "      <th>7</th>\n",
              "      <td>20</td>\n",
              "      <td>3.567526</td>\n",
              "      <td>20</td>\n",
              "      <td>19.218277</td>\n",
              "    </tr>\n",
              "    <tr>\n",
              "      <th>8</th>\n",
              "      <td>40</td>\n",
              "      <td>1.506527</td>\n",
              "      <td>40</td>\n",
              "      <td>8.115665</td>\n",
              "    </tr>\n",
              "    <tr>\n",
              "      <th>9</th>\n",
              "      <td>20</td>\n",
              "      <td>1.768670</td>\n",
              "      <td>20</td>\n",
              "      <td>6.000000</td>\n",
              "    </tr>\n",
              "  </tbody>\n",
              "</table>\n",
              "</div>\n",
              "      <button class=\"colab-df-convert\" onclick=\"convertToInteractive('df-d9d9b60a-92a4-4efa-bd18-d3f135dd7baa')\"\n",
              "              title=\"Convert this dataframe to an interactive table.\"\n",
              "              style=\"display:none;\">\n",
              "        \n",
              "  <svg xmlns=\"http://www.w3.org/2000/svg\" height=\"24px\"viewBox=\"0 0 24 24\"\n",
              "       width=\"24px\">\n",
              "    <path d=\"M0 0h24v24H0V0z\" fill=\"none\"/>\n",
              "    <path d=\"M18.56 5.44l.94 2.06.94-2.06 2.06-.94-2.06-.94-.94-2.06-.94 2.06-2.06.94zm-11 1L8.5 8.5l.94-2.06 2.06-.94-2.06-.94L8.5 2.5l-.94 2.06-2.06.94zm10 10l.94 2.06.94-2.06 2.06-.94-2.06-.94-.94-2.06-.94 2.06-2.06.94z\"/><path d=\"M17.41 7.96l-1.37-1.37c-.4-.4-.92-.59-1.43-.59-.52 0-1.04.2-1.43.59L10.3 9.45l-7.72 7.72c-.78.78-.78 2.05 0 2.83L4 21.41c.39.39.9.59 1.41.59.51 0 1.02-.2 1.41-.59l7.78-7.78 2.81-2.81c.8-.78.8-2.07 0-2.86zM5.41 20L4 18.59l7.72-7.72 1.47 1.35L5.41 20z\"/>\n",
              "  </svg>\n",
              "      </button>\n",
              "      \n",
              "  <style>\n",
              "    .colab-df-container {\n",
              "      display:flex;\n",
              "      flex-wrap:wrap;\n",
              "      gap: 12px;\n",
              "    }\n",
              "\n",
              "    .colab-df-convert {\n",
              "      background-color: #E8F0FE;\n",
              "      border: none;\n",
              "      border-radius: 50%;\n",
              "      cursor: pointer;\n",
              "      display: none;\n",
              "      fill: #1967D2;\n",
              "      height: 32px;\n",
              "      padding: 0 0 0 0;\n",
              "      width: 32px;\n",
              "    }\n",
              "\n",
              "    .colab-df-convert:hover {\n",
              "      background-color: #E2EBFA;\n",
              "      box-shadow: 0px 1px 2px rgba(60, 64, 67, 0.3), 0px 1px 3px 1px rgba(60, 64, 67, 0.15);\n",
              "      fill: #174EA6;\n",
              "    }\n",
              "\n",
              "    [theme=dark] .colab-df-convert {\n",
              "      background-color: #3B4455;\n",
              "      fill: #D2E3FC;\n",
              "    }\n",
              "\n",
              "    [theme=dark] .colab-df-convert:hover {\n",
              "      background-color: #434B5C;\n",
              "      box-shadow: 0px 1px 3px 1px rgba(0, 0, 0, 0.15);\n",
              "      filter: drop-shadow(0px 1px 2px rgba(0, 0, 0, 0.3));\n",
              "      fill: #FFFFFF;\n",
              "    }\n",
              "  </style>\n",
              "\n",
              "      <script>\n",
              "        const buttonEl =\n",
              "          document.querySelector('#df-d9d9b60a-92a4-4efa-bd18-d3f135dd7baa button.colab-df-convert');\n",
              "        buttonEl.style.display =\n",
              "          google.colab.kernel.accessAllowed ? 'block' : 'none';\n",
              "\n",
              "        async function convertToInteractive(key) {\n",
              "          const element = document.querySelector('#df-d9d9b60a-92a4-4efa-bd18-d3f135dd7baa');\n",
              "          const dataTable =\n",
              "            await google.colab.kernel.invokeFunction('convertToInteractive',\n",
              "                                                     [key], {});\n",
              "          if (!dataTable) return;\n",
              "\n",
              "          const docLinkHtml = 'Like what you see? Visit the ' +\n",
              "            '<a target=\"_blank\" href=https://colab.research.google.com/notebooks/data_table.ipynb>data table notebook</a>'\n",
              "            + ' to learn more about interactive tables.';\n",
              "          element.innerHTML = '';\n",
              "          dataTable['output_type'] = 'display_data';\n",
              "          await google.colab.output.renderOutput(dataTable, element);\n",
              "          const docLink = document.createElement('div');\n",
              "          docLink.innerHTML = docLinkHtml;\n",
              "          element.appendChild(docLink);\n",
              "        }\n",
              "      </script>\n",
              "    </div>\n",
              "  </div>\n",
              "  "
            ]
          },
          "metadata": {},
          "execution_count": 101
        }
      ]
    },
    {
      "cell_type": "markdown",
      "source": [
        "* Как функция"
      ],
      "metadata": {
        "id": "w5fZwqnnkF5w"
      }
    },
    {
      "cell_type": "code",
      "source": [
        "def add_discount_to_df(df, price, date_begin, date_end):\n",
        "  discount, max_discount = create_disсount_v2(df, 'Скидка', 'Цена', price, date_begin, date_end)\n",
        "  weight = price\n",
        "  df = pd.concat([pd.DataFrame([[price, discount, weight, max_discount]], columns=df.columns), df], ignore_index=True)"
      ],
      "metadata": {
        "id": "xujDhwurkCND"
      },
      "execution_count": null,
      "outputs": []
    }
  ]
}