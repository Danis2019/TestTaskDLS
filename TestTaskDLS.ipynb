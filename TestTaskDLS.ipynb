{
  "nbformat": 4,
  "nbformat_minor": 0,
  "metadata": {
    "colab": {
      "provenance": [],
      "authorship_tag": "ABX9TyPlhmqarFgDsPgDRvYMpsfZ",
      "include_colab_link": true
    },
    "kernelspec": {
      "name": "python3",
      "display_name": "Python 3"
    },
    "language_info": {
      "name": "python"
    }
  },
  "cells": [
    {
      "cell_type": "markdown",
      "metadata": {
        "id": "view-in-github",
        "colab_type": "text"
      },
      "source": [
        "<a href=\"https://colab.research.google.com/github/Danis2019/TestTaskDLS/blob/main/TestTaskDLS.ipynb\" target=\"_parent\"><img src=\"https://colab.research.google.com/assets/colab-badge.svg\" alt=\"Open In Colab\"/></a>"
      ]
    },
    {
      "cell_type": "markdown",
      "source": [
        "* Тестовое задание: симулировать динамическое начисление скидки покупателям магазина согласно условиям:\n",
        "** 1.диапазон скидки от 0% до b_max%; размер выбирается случным образом, но при условии, что\n",
        "** 2.общая средневзвешенная скидка по текущей и всем предидущим покупкам на 25% меньше чем b_max/3\n",
        "* опционно: генерировать случайный размер входящих покупок не по равномерному распределению, а по распределению Пуассона с параметром mu=1.8"
      ],
      "metadata": {
        "id": "34eBqokey-Xd"
      }
    },
    {
      "cell_type": "code",
      "execution_count": 88,
      "metadata": {
        "id": "PZ-evBXOyJ2l"
      },
      "outputs": [],
      "source": [
        "import pandas as pd\n",
        "from scipy.stats import poisson\n",
        "from random import randint\n",
        "import numpy as np"
      ]
    },
    {
      "cell_type": "code",
      "source": [
        "def puasson():\n",
        "  return poisson.rvs(mu=1.8, size=10)"
      ],
      "metadata": {
        "id": "hO0jA61y5bsm"
      },
      "execution_count": 89,
      "outputs": []
    },
    {
      "cell_type": "code",
      "source": [
        "b_max = randint(10, 50)\n",
        "print(f\"b_max = {b_max}\")"
      ],
      "metadata": {
        "colab": {
          "base_uri": "https://localhost:8080/"
        },
        "id": "9QrB9FKANeVV",
        "outputId": "dd1e596f-fcb5-4d81-9cb8-62329a62a512"
      },
      "execution_count": 90,
      "outputs": [
        {
          "output_type": "stream",
          "name": "stdout",
          "text": [
            "b_max = 21\n"
          ]
        }
      ]
    },
    {
      "cell_type": "code",
      "source": [
        "# Список покупателей и их персональных скидок\n",
        "df = pd.DataFrame({ 'Цена': puasson() * 10 + 10 ,\n",
        "                    'Скидка': puasson()})\n",
        "# Необходимо обработать значение скидки = 0, чтобы не было деления на 0\n",
        "df['Вес скидки'] = np.where(df['Скидка'] !=0, df['Цена'] * df['Скидка'] /  100 , 0)\n",
        "df"
      ],
      "metadata": {
        "colab": {
          "base_uri": "https://localhost:8080/",
          "height": 363
        },
        "id": "MipzS1up1EeE",
        "outputId": "c96762ad-aefa-4094-b08f-f818e5eac634"
      },
      "execution_count": 91,
      "outputs": [
        {
          "output_type": "execute_result",
          "data": {
            "text/plain": [
              "   Цена  Скидка  Вес скидки\n",
              "0    20       2         0.4\n",
              "1    40       3         1.2\n",
              "2    20       3         0.6\n",
              "3    60       5         3.0\n",
              "4    40       0         0.0\n",
              "5    20       2         0.4\n",
              "6    20       0         0.0\n",
              "7    40       4         1.6\n",
              "8    10       1         0.1\n",
              "9    30       2         0.6"
            ],
            "text/html": [
              "\n",
              "  <div id=\"df-f08410f9-93d6-459b-b1e0-061bb6d47782\">\n",
              "    <div class=\"colab-df-container\">\n",
              "      <div>\n",
              "<style scoped>\n",
              "    .dataframe tbody tr th:only-of-type {\n",
              "        vertical-align: middle;\n",
              "    }\n",
              "\n",
              "    .dataframe tbody tr th {\n",
              "        vertical-align: top;\n",
              "    }\n",
              "\n",
              "    .dataframe thead th {\n",
              "        text-align: right;\n",
              "    }\n",
              "</style>\n",
              "<table border=\"1\" class=\"dataframe\">\n",
              "  <thead>\n",
              "    <tr style=\"text-align: right;\">\n",
              "      <th></th>\n",
              "      <th>Цена</th>\n",
              "      <th>Скидка</th>\n",
              "      <th>Вес скидки</th>\n",
              "    </tr>\n",
              "  </thead>\n",
              "  <tbody>\n",
              "    <tr>\n",
              "      <th>0</th>\n",
              "      <td>20</td>\n",
              "      <td>2</td>\n",
              "      <td>0.4</td>\n",
              "    </tr>\n",
              "    <tr>\n",
              "      <th>1</th>\n",
              "      <td>40</td>\n",
              "      <td>3</td>\n",
              "      <td>1.2</td>\n",
              "    </tr>\n",
              "    <tr>\n",
              "      <th>2</th>\n",
              "      <td>20</td>\n",
              "      <td>3</td>\n",
              "      <td>0.6</td>\n",
              "    </tr>\n",
              "    <tr>\n",
              "      <th>3</th>\n",
              "      <td>60</td>\n",
              "      <td>5</td>\n",
              "      <td>3.0</td>\n",
              "    </tr>\n",
              "    <tr>\n",
              "      <th>4</th>\n",
              "      <td>40</td>\n",
              "      <td>0</td>\n",
              "      <td>0.0</td>\n",
              "    </tr>\n",
              "    <tr>\n",
              "      <th>5</th>\n",
              "      <td>20</td>\n",
              "      <td>2</td>\n",
              "      <td>0.4</td>\n",
              "    </tr>\n",
              "    <tr>\n",
              "      <th>6</th>\n",
              "      <td>20</td>\n",
              "      <td>0</td>\n",
              "      <td>0.0</td>\n",
              "    </tr>\n",
              "    <tr>\n",
              "      <th>7</th>\n",
              "      <td>40</td>\n",
              "      <td>4</td>\n",
              "      <td>1.6</td>\n",
              "    </tr>\n",
              "    <tr>\n",
              "      <th>8</th>\n",
              "      <td>10</td>\n",
              "      <td>1</td>\n",
              "      <td>0.1</td>\n",
              "    </tr>\n",
              "    <tr>\n",
              "      <th>9</th>\n",
              "      <td>30</td>\n",
              "      <td>2</td>\n",
              "      <td>0.6</td>\n",
              "    </tr>\n",
              "  </tbody>\n",
              "</table>\n",
              "</div>\n",
              "      <button class=\"colab-df-convert\" onclick=\"convertToInteractive('df-f08410f9-93d6-459b-b1e0-061bb6d47782')\"\n",
              "              title=\"Convert this dataframe to an interactive table.\"\n",
              "              style=\"display:none;\">\n",
              "        \n",
              "  <svg xmlns=\"http://www.w3.org/2000/svg\" height=\"24px\"viewBox=\"0 0 24 24\"\n",
              "       width=\"24px\">\n",
              "    <path d=\"M0 0h24v24H0V0z\" fill=\"none\"/>\n",
              "    <path d=\"M18.56 5.44l.94 2.06.94-2.06 2.06-.94-2.06-.94-.94-2.06-.94 2.06-2.06.94zm-11 1L8.5 8.5l.94-2.06 2.06-.94-2.06-.94L8.5 2.5l-.94 2.06-2.06.94zm10 10l.94 2.06.94-2.06 2.06-.94-2.06-.94-.94-2.06-.94 2.06-2.06.94z\"/><path d=\"M17.41 7.96l-1.37-1.37c-.4-.4-.92-.59-1.43-.59-.52 0-1.04.2-1.43.59L10.3 9.45l-7.72 7.72c-.78.78-.78 2.05 0 2.83L4 21.41c.39.39.9.59 1.41.59.51 0 1.02-.2 1.41-.59l7.78-7.78 2.81-2.81c.8-.78.8-2.07 0-2.86zM5.41 20L4 18.59l7.72-7.72 1.47 1.35L5.41 20z\"/>\n",
              "  </svg>\n",
              "      </button>\n",
              "      \n",
              "  <style>\n",
              "    .colab-df-container {\n",
              "      display:flex;\n",
              "      flex-wrap:wrap;\n",
              "      gap: 12px;\n",
              "    }\n",
              "\n",
              "    .colab-df-convert {\n",
              "      background-color: #E8F0FE;\n",
              "      border: none;\n",
              "      border-radius: 50%;\n",
              "      cursor: pointer;\n",
              "      display: none;\n",
              "      fill: #1967D2;\n",
              "      height: 32px;\n",
              "      padding: 0 0 0 0;\n",
              "      width: 32px;\n",
              "    }\n",
              "\n",
              "    .colab-df-convert:hover {\n",
              "      background-color: #E2EBFA;\n",
              "      box-shadow: 0px 1px 2px rgba(60, 64, 67, 0.3), 0px 1px 3px 1px rgba(60, 64, 67, 0.15);\n",
              "      fill: #174EA6;\n",
              "    }\n",
              "\n",
              "    [theme=dark] .colab-df-convert {\n",
              "      background-color: #3B4455;\n",
              "      fill: #D2E3FC;\n",
              "    }\n",
              "\n",
              "    [theme=dark] .colab-df-convert:hover {\n",
              "      background-color: #434B5C;\n",
              "      box-shadow: 0px 1px 3px 1px rgba(0, 0, 0, 0.15);\n",
              "      filter: drop-shadow(0px 1px 2px rgba(0, 0, 0, 0.3));\n",
              "      fill: #FFFFFF;\n",
              "    }\n",
              "  </style>\n",
              "\n",
              "      <script>\n",
              "        const buttonEl =\n",
              "          document.querySelector('#df-f08410f9-93d6-459b-b1e0-061bb6d47782 button.colab-df-convert');\n",
              "        buttonEl.style.display =\n",
              "          google.colab.kernel.accessAllowed ? 'block' : 'none';\n",
              "\n",
              "        async function convertToInteractive(key) {\n",
              "          const element = document.querySelector('#df-f08410f9-93d6-459b-b1e0-061bb6d47782');\n",
              "          const dataTable =\n",
              "            await google.colab.kernel.invokeFunction('convertToInteractive',\n",
              "                                                     [key], {});\n",
              "          if (!dataTable) return;\n",
              "\n",
              "          const docLinkHtml = 'Like what you see? Visit the ' +\n",
              "            '<a target=\"_blank\" href=https://colab.research.google.com/notebooks/data_table.ipynb>data table notebook</a>'\n",
              "            + ' to learn more about interactive tables.';\n",
              "          element.innerHTML = '';\n",
              "          dataTable['output_type'] = 'display_data';\n",
              "          await google.colab.output.renderOutput(dataTable, element);\n",
              "          const docLink = document.createElement('div');\n",
              "          docLink.innerHTML = docLinkHtml;\n",
              "          element.appendChild(docLink);\n",
              "        }\n",
              "      </script>\n",
              "    </div>\n",
              "  </div>\n",
              "  "
            ]
          },
          "metadata": {},
          "execution_count": 91
        }
      ]
    },
    {
      "cell_type": "code",
      "source": [
        "def create_disount(df, disounts, weights, product_price):\n",
        "  d = df[disounts]\n",
        "  w = df[weights]\n",
        "  # Если принять максимальный коэффициент за X, то получиться квадратное уравнение с коэффициентами, представленными на следующей строчке\n",
        "  coeff = (product_price/100, product_price/100 * b_max / 4, (d * w).sum() - b_max / 4 * w.sum() )\n",
        "  # Выведение этого квадратного уравнения можно найти на Github, либо я вышлю Дине\n",
        "  person_disount = np.roots(coeff)\n",
        "  print(f\"Максимально доступная скидка:{max(person_disount)}\")\n",
        "  return randint(0, int(max(person_disount)))"
      ],
      "metadata": {
        "id": "OBVXwiZJ6o1F"
      },
      "execution_count": 99,
      "outputs": []
    },
    {
      "cell_type": "markdown",
      "source": [
        "Проверим на товаре за 20 и товаре за 100, как видно, чем дороже товар, тем меньше максимальная скидка"
      ],
      "metadata": {
        "id": "nSCEmSeabUWs"
      }
    },
    {
      "cell_type": "code",
      "source": [
        "discount = create_disount(df, 'Скидка', 'Вес скидки', 20)\n",
        "print(f\"Ваша скидка:{discount}\")"
      ],
      "metadata": {
        "colab": {
          "base_uri": "https://localhost:8080/"
        },
        "id": "OVW8XoB9IvCj",
        "outputId": "faaab08b-2547-4921-8b1c-7dc6d107cd9b"
      },
      "execution_count": 100,
      "outputs": [
        {
          "output_type": "stream",
          "name": "stdout",
          "text": [
            "Максимально доступная скидка:5.4846007916542945\n",
            "Ваша скидка:1\n"
          ]
        }
      ]
    },
    {
      "cell_type": "code",
      "source": [
        "discount = create_disount(df, 'Скидка', 'Вес скидки', 20)\n",
        "print(f\"Ваша скидка:{discount}\")"
      ],
      "metadata": {
        "colab": {
          "base_uri": "https://localhost:8080/"
        },
        "id": "ajV60B9hOuuJ",
        "outputId": "ed8b3bb2-cb20-47bc-97ea-a7764381565d"
      },
      "execution_count": 101,
      "outputs": [
        {
          "output_type": "stream",
          "name": "stdout",
          "text": [
            "Максимально доступная скидка:5.4846007916542945\n",
            "Ваша скидка:4\n"
          ]
        }
      ]
    },
    {
      "cell_type": "code",
      "source": [
        "discount = create_disount(df, 'Скидка', 'Вес скидки', 100)\n",
        "print(f\"Ваша скидка:{discount}\")"
      ],
      "metadata": {
        "colab": {
          "base_uri": "https://localhost:8080/"
        },
        "id": "wg2MdcFPOwUG",
        "outputId": "0314921e-87ae-4f61-efaf-a1d0a4cbf117"
      },
      "execution_count": 102,
      "outputs": [
        {
          "output_type": "stream",
          "name": "stdout",
          "text": [
            "Максимально доступная скидка:1.695373247764595\n",
            "Ваша скидка:1\n"
          ]
        }
      ]
    }
  ]
}