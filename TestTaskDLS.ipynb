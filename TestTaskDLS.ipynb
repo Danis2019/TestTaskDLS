{
  "nbformat": 4,
  "nbformat_minor": 0,
  "metadata": {
    "colab": {
      "provenance": [],
      "authorship_tag": "ABX9TyPmL59EruUHL2LhNtPCXloK",
      "include_colab_link": true
    },
    "kernelspec": {
      "name": "python3",
      "display_name": "Python 3"
    },
    "language_info": {
      "name": "python"
    }
  },
  "cells": [
    {
      "cell_type": "markdown",
      "metadata": {
        "id": "view-in-github",
        "colab_type": "text"
      },
      "source": [
        "<a href=\"https://colab.research.google.com/github/Danis2019/TestTaskDLS/blob/main/TestTaskDLS.ipynb\" target=\"_parent\"><img src=\"https://colab.research.google.com/assets/colab-badge.svg\" alt=\"Open In Colab\"/></a>"
      ]
    },
    {
      "cell_type": "markdown",
      "source": [
        "* Тестовое задание: симулировать динамическое начисление скидки покупателям магазина согласно условиям:\n",
        "** 1.диапазон скидки от 0% до b_max%; размер выбирается случным образом, но при условии, что\n",
        "** 2.общая средневзвешенная скидка по текущей и всем предидущим покупкам на 25% меньше чем b_max/3\n",
        "* опционно: генерировать случайный размер входящих покупок не по равномерному распределению, а по распределению Пуассона с параметром mu=1.8"
      ],
      "metadata": {
        "id": "34eBqokey-Xd"
      }
    },
    {
      "cell_type": "code",
      "execution_count": null,
      "metadata": {
        "id": "PZ-evBXOyJ2l"
      },
      "outputs": [],
      "source": [
        "import pandas as pd\n",
        "from scipy.stats import poisson\n",
        "from random import randint\n",
        "import numpy as np"
      ]
    },
    {
      "cell_type": "code",
      "source": [
        "def puasson():\n",
        "  return poisson.rvs(mu=1.8, size=10)"
      ],
      "metadata": {
        "id": "hO0jA61y5bsm"
      },
      "execution_count": null,
      "outputs": []
    },
    {
      "cell_type": "code",
      "source": [
        "b_max = randint(10, 50)\n",
        "print(f\"b_max = {b_max}\")"
      ],
      "metadata": {
        "colab": {
          "base_uri": "https://localhost:8080/"
        },
        "id": "9QrB9FKANeVV",
        "outputId": "9adf60fb-355d-492a-a8d7-3c1b6078f715"
      },
      "execution_count": null,
      "outputs": [
        {
          "output_type": "stream",
          "name": "stdout",
          "text": [
            "b_max = 23\n"
          ]
        }
      ]
    },
    {
      "cell_type": "code",
      "source": [
        "print('список цен/покупок:')\n",
        "prices_array = puasson() * 10 + 10\n",
        "prices_array"
      ],
      "metadata": {
        "colab": {
          "base_uri": "https://localhost:8080/"
        },
        "id": "PjHFR3BQWdxw",
        "outputId": "714a5bc1-5117-4cdc-faef-137e23aa208e"
      },
      "execution_count": null,
      "outputs": [
        {
          "output_type": "stream",
          "name": "stdout",
          "text": [
            "список цен/покупок:\n"
          ]
        },
        {
          "output_type": "execute_result",
          "data": {
            "text/plain": [
              "array([40, 20, 20, 30, 20, 30, 10, 70, 30, 40])"
            ]
          },
          "metadata": {},
          "execution_count": 31
        }
      ]
    },
    {
      "cell_type": "code",
      "source": [
        "# # Список покупок и их персональных скидок\n",
        "# df = pd.DataFrame({ 'Цена': puasson() * 10 + 10,\n",
        "#                     'Скидка': puasson()})\n",
        "# # Необходимо обработать значение скидки = 0, чтобы не было деления на 0\n",
        "# df['Вес скидки'] = np.where(df['Скидка'] !=0, df['Цена'] * df['Скидка'] / 100, 0)\n",
        "# df"
      ],
      "metadata": {
        "id": "MipzS1up1EeE"
      },
      "execution_count": null,
      "outputs": []
    },
    {
      "cell_type": "code",
      "source": [
        "# Вес это цена помноженная на скидку деленную на 100\n",
        "def create_disсount_v1(df, disounts, weights, product_price):\n",
        "  if len(df) != 0:\n",
        "    d = df[disounts]\n",
        "    w = df[weights]\n",
        "    # Если принять максимальную скидку за X, то можно вывести квадратное уравнение с коэффициентами, представленными на следующей строчке\n",
        "    coeff = (product_price/100, product_price/100 * b_max / 4, (d * w).sum() - b_max / 4 * w.sum())\n",
        "    # Выведение этого квадратного уравнения можно найти на Github, либо я вышлю Дине\n",
        "    person_disount = np.roots(coeff)\n",
        "    return randint(0, int(max(person_disount))), max(person_disount)\n",
        "  else:\n",
        "    person_disount =randint(0, int(b_max / 4))\n",
        "    return person_disount, b_max / 4"
      ],
      "metadata": {
        "id": "OBVXwiZJ6o1F"
      },
      "execution_count": null,
      "outputs": []
    },
    {
      "cell_type": "code",
      "source": [
        "# Вес это цена\n",
        "def create_disсount_v2(df, disounts, weights, product_price):\n",
        "  if len(df) != 0:\n",
        "    d = df[disounts]\n",
        "    w = df[weights]\n",
        "    # Если принять максимальную скидку за X, то можно вывести формулу для максимального значения скидки\n",
        "    person_disount =  (b_max / 4 * (w.sum() + product_price) - (d * w).sum()) / price\n",
        "    return randint(0, int(person_disount)), person_disount\n",
        "  else:\n",
        "    person_disount =randint(0, int(b_max / 4))\n",
        "    return person_disount, b_max / 4"
      ],
      "metadata": {
        "id": "or2V-06iezgu"
      },
      "execution_count": null,
      "outputs": []
    },
    {
      "cell_type": "markdown",
      "source": [
        "* Для случаев, где вес это цена на скидку"
      ],
      "metadata": {
        "id": "ZLIF1KNKpuyQ"
      }
    },
    {
      "cell_type": "code",
      "source": [
        "# Тут начинает возникать проблема, если первая скидка равна 0, то и остальные скидки становяться равными 0\n",
        "df = pd.DataFrame(columns=['Цена', 'Скидка', 'Вес скидки', 'Максимально доступная скидка'])\n",
        "for price in prices_array:\n",
        "  discount, max_discount = create_disсount_v1(df, 'Скидка', 'Вес скидки', price)\n",
        "  weight = price * discount / 100\n",
        "  df = pd.concat([pd.DataFrame([[price, discount, weight, max_discount]], columns=df.columns), df], ignore_index=True)\n",
        "df"
      ],
      "metadata": {
        "colab": {
          "base_uri": "https://localhost:8080/",
          "height": 363
        },
        "id": "FjRvqvg4WLrV",
        "outputId": "10ee4d06-91bd-4648-d1ad-3f19225b1c8d"
      },
      "execution_count": null,
      "outputs": [
        {
          "output_type": "execute_result",
          "data": {
            "text/plain": [
              "  Цена Скидка  Вес скидки  Максимально доступная скидка\n",
              "0   40      2         0.8                      3.255100\n",
              "1   30      3         0.9                      3.377916\n",
              "2   70      1         0.7                      1.215221\n",
              "3   10      2         0.2                      4.871975\n",
              "4   30      1         0.3                      1.681932\n",
              "5   20      0         0.0                      2.322656\n",
              "6   30      0         0.0                      1.681932\n",
              "7   20      1         0.2                      1.843647\n",
              "8   20      0         0.0                      1.843647\n",
              "9   40      4         1.6                      5.750000"
            ],
            "text/html": [
              "\n",
              "  <div id=\"df-f576631c-acde-4e2b-9981-bdaeee760340\">\n",
              "    <div class=\"colab-df-container\">\n",
              "      <div>\n",
              "<style scoped>\n",
              "    .dataframe tbody tr th:only-of-type {\n",
              "        vertical-align: middle;\n",
              "    }\n",
              "\n",
              "    .dataframe tbody tr th {\n",
              "        vertical-align: top;\n",
              "    }\n",
              "\n",
              "    .dataframe thead th {\n",
              "        text-align: right;\n",
              "    }\n",
              "</style>\n",
              "<table border=\"1\" class=\"dataframe\">\n",
              "  <thead>\n",
              "    <tr style=\"text-align: right;\">\n",
              "      <th></th>\n",
              "      <th>Цена</th>\n",
              "      <th>Скидка</th>\n",
              "      <th>Вес скидки</th>\n",
              "      <th>Максимально доступная скидка</th>\n",
              "    </tr>\n",
              "  </thead>\n",
              "  <tbody>\n",
              "    <tr>\n",
              "      <th>0</th>\n",
              "      <td>40</td>\n",
              "      <td>2</td>\n",
              "      <td>0.8</td>\n",
              "      <td>3.255100</td>\n",
              "    </tr>\n",
              "    <tr>\n",
              "      <th>1</th>\n",
              "      <td>30</td>\n",
              "      <td>3</td>\n",
              "      <td>0.9</td>\n",
              "      <td>3.377916</td>\n",
              "    </tr>\n",
              "    <tr>\n",
              "      <th>2</th>\n",
              "      <td>70</td>\n",
              "      <td>1</td>\n",
              "      <td>0.7</td>\n",
              "      <td>1.215221</td>\n",
              "    </tr>\n",
              "    <tr>\n",
              "      <th>3</th>\n",
              "      <td>10</td>\n",
              "      <td>2</td>\n",
              "      <td>0.2</td>\n",
              "      <td>4.871975</td>\n",
              "    </tr>\n",
              "    <tr>\n",
              "      <th>4</th>\n",
              "      <td>30</td>\n",
              "      <td>1</td>\n",
              "      <td>0.3</td>\n",
              "      <td>1.681932</td>\n",
              "    </tr>\n",
              "    <tr>\n",
              "      <th>5</th>\n",
              "      <td>20</td>\n",
              "      <td>0</td>\n",
              "      <td>0.0</td>\n",
              "      <td>2.322656</td>\n",
              "    </tr>\n",
              "    <tr>\n",
              "      <th>6</th>\n",
              "      <td>30</td>\n",
              "      <td>0</td>\n",
              "      <td>0.0</td>\n",
              "      <td>1.681932</td>\n",
              "    </tr>\n",
              "    <tr>\n",
              "      <th>7</th>\n",
              "      <td>20</td>\n",
              "      <td>1</td>\n",
              "      <td>0.2</td>\n",
              "      <td>1.843647</td>\n",
              "    </tr>\n",
              "    <tr>\n",
              "      <th>8</th>\n",
              "      <td>20</td>\n",
              "      <td>0</td>\n",
              "      <td>0.0</td>\n",
              "      <td>1.843647</td>\n",
              "    </tr>\n",
              "    <tr>\n",
              "      <th>9</th>\n",
              "      <td>40</td>\n",
              "      <td>4</td>\n",
              "      <td>1.6</td>\n",
              "      <td>5.750000</td>\n",
              "    </tr>\n",
              "  </tbody>\n",
              "</table>\n",
              "</div>\n",
              "      <button class=\"colab-df-convert\" onclick=\"convertToInteractive('df-f576631c-acde-4e2b-9981-bdaeee760340')\"\n",
              "              title=\"Convert this dataframe to an interactive table.\"\n",
              "              style=\"display:none;\">\n",
              "        \n",
              "  <svg xmlns=\"http://www.w3.org/2000/svg\" height=\"24px\"viewBox=\"0 0 24 24\"\n",
              "       width=\"24px\">\n",
              "    <path d=\"M0 0h24v24H0V0z\" fill=\"none\"/>\n",
              "    <path d=\"M18.56 5.44l.94 2.06.94-2.06 2.06-.94-2.06-.94-.94-2.06-.94 2.06-2.06.94zm-11 1L8.5 8.5l.94-2.06 2.06-.94-2.06-.94L8.5 2.5l-.94 2.06-2.06.94zm10 10l.94 2.06.94-2.06 2.06-.94-2.06-.94-.94-2.06-.94 2.06-2.06.94z\"/><path d=\"M17.41 7.96l-1.37-1.37c-.4-.4-.92-.59-1.43-.59-.52 0-1.04.2-1.43.59L10.3 9.45l-7.72 7.72c-.78.78-.78 2.05 0 2.83L4 21.41c.39.39.9.59 1.41.59.51 0 1.02-.2 1.41-.59l7.78-7.78 2.81-2.81c.8-.78.8-2.07 0-2.86zM5.41 20L4 18.59l7.72-7.72 1.47 1.35L5.41 20z\"/>\n",
              "  </svg>\n",
              "      </button>\n",
              "      \n",
              "  <style>\n",
              "    .colab-df-container {\n",
              "      display:flex;\n",
              "      flex-wrap:wrap;\n",
              "      gap: 12px;\n",
              "    }\n",
              "\n",
              "    .colab-df-convert {\n",
              "      background-color: #E8F0FE;\n",
              "      border: none;\n",
              "      border-radius: 50%;\n",
              "      cursor: pointer;\n",
              "      display: none;\n",
              "      fill: #1967D2;\n",
              "      height: 32px;\n",
              "      padding: 0 0 0 0;\n",
              "      width: 32px;\n",
              "    }\n",
              "\n",
              "    .colab-df-convert:hover {\n",
              "      background-color: #E2EBFA;\n",
              "      box-shadow: 0px 1px 2px rgba(60, 64, 67, 0.3), 0px 1px 3px 1px rgba(60, 64, 67, 0.15);\n",
              "      fill: #174EA6;\n",
              "    }\n",
              "\n",
              "    [theme=dark] .colab-df-convert {\n",
              "      background-color: #3B4455;\n",
              "      fill: #D2E3FC;\n",
              "    }\n",
              "\n",
              "    [theme=dark] .colab-df-convert:hover {\n",
              "      background-color: #434B5C;\n",
              "      box-shadow: 0px 1px 3px 1px rgba(0, 0, 0, 0.15);\n",
              "      filter: drop-shadow(0px 1px 2px rgba(0, 0, 0, 0.3));\n",
              "      fill: #FFFFFF;\n",
              "    }\n",
              "  </style>\n",
              "\n",
              "      <script>\n",
              "        const buttonEl =\n",
              "          document.querySelector('#df-f576631c-acde-4e2b-9981-bdaeee760340 button.colab-df-convert');\n",
              "        buttonEl.style.display =\n",
              "          google.colab.kernel.accessAllowed ? 'block' : 'none';\n",
              "\n",
              "        async function convertToInteractive(key) {\n",
              "          const element = document.querySelector('#df-f576631c-acde-4e2b-9981-bdaeee760340');\n",
              "          const dataTable =\n",
              "            await google.colab.kernel.invokeFunction('convertToInteractive',\n",
              "                                                     [key], {});\n",
              "          if (!dataTable) return;\n",
              "\n",
              "          const docLinkHtml = 'Like what you see? Visit the ' +\n",
              "            '<a target=\"_blank\" href=https://colab.research.google.com/notebooks/data_table.ipynb>data table notebook</a>'\n",
              "            + ' to learn more about interactive tables.';\n",
              "          element.innerHTML = '';\n",
              "          dataTable['output_type'] = 'display_data';\n",
              "          await google.colab.output.renderOutput(dataTable, element);\n",
              "          const docLink = document.createElement('div');\n",
              "          docLink.innerHTML = docLinkHtml;\n",
              "          element.appendChild(docLink);\n",
              "        }\n",
              "      </script>\n",
              "    </div>\n",
              "  </div>\n",
              "  "
            ]
          },
          "metadata": {},
          "execution_count": 35
        }
      ]
    },
    {
      "cell_type": "markdown",
      "source": [
        "* Для случаев, где вес это цена"
      ],
      "metadata": {
        "id": "jql4_3lVp9hZ"
      }
    },
    {
      "cell_type": "code",
      "source": [
        "df = pd.DataFrame(columns=['Цена', 'Скидка', 'Вес скидки', 'Максимально доступная скидка'])\n",
        "for price in prices_array:\n",
        "  discount, max_discount = create_disсount_v2(df, 'Скидка', 'Цена', price)\n",
        "  weight = price\n",
        "  df = pd.concat([pd.DataFrame([[price, discount, weight, max_discount]], columns=df.columns), df], ignore_index=True)\n",
        "df"
      ],
      "metadata": {
        "colab": {
          "base_uri": "https://localhost:8080/",
          "height": 363
        },
        "id": "qDBWMdYHgGTp",
        "outputId": "93b6c442-29a5-406d-91fc-2baf12039915"
      },
      "execution_count": null,
      "outputs": [
        {
          "output_type": "execute_result",
          "data": {
            "text/plain": [
              "  Цена Скидка Вес скидки  Максимально доступная скидка\n",
              "0   30      4         30                     20.083333\n",
              "1   50     15         50                     21.800000\n",
              "2   20     25         20                     57.625000\n",
              "3   30      9         30                     41.583333\n",
              "4   30      6         30                     38.833333\n",
              "5   50      2         50                     20.050000\n",
              "6   30      3         30                     21.833333\n",
              "7   40      8         40                     17.812500\n",
              "8   20      5         20                     23.125000\n",
              "9   50      3         50                      8.750000"
            ],
            "text/html": [
              "\n",
              "  <div id=\"df-4cf065fa-d582-4830-9c91-72c64b9e193d\">\n",
              "    <div class=\"colab-df-container\">\n",
              "      <div>\n",
              "<style scoped>\n",
              "    .dataframe tbody tr th:only-of-type {\n",
              "        vertical-align: middle;\n",
              "    }\n",
              "\n",
              "    .dataframe tbody tr th {\n",
              "        vertical-align: top;\n",
              "    }\n",
              "\n",
              "    .dataframe thead th {\n",
              "        text-align: right;\n",
              "    }\n",
              "</style>\n",
              "<table border=\"1\" class=\"dataframe\">\n",
              "  <thead>\n",
              "    <tr style=\"text-align: right;\">\n",
              "      <th></th>\n",
              "      <th>Цена</th>\n",
              "      <th>Скидка</th>\n",
              "      <th>Вес скидки</th>\n",
              "      <th>Максимально доступная скидка</th>\n",
              "    </tr>\n",
              "  </thead>\n",
              "  <tbody>\n",
              "    <tr>\n",
              "      <th>0</th>\n",
              "      <td>30</td>\n",
              "      <td>4</td>\n",
              "      <td>30</td>\n",
              "      <td>20.083333</td>\n",
              "    </tr>\n",
              "    <tr>\n",
              "      <th>1</th>\n",
              "      <td>50</td>\n",
              "      <td>15</td>\n",
              "      <td>50</td>\n",
              "      <td>21.800000</td>\n",
              "    </tr>\n",
              "    <tr>\n",
              "      <th>2</th>\n",
              "      <td>20</td>\n",
              "      <td>25</td>\n",
              "      <td>20</td>\n",
              "      <td>57.625000</td>\n",
              "    </tr>\n",
              "    <tr>\n",
              "      <th>3</th>\n",
              "      <td>30</td>\n",
              "      <td>9</td>\n",
              "      <td>30</td>\n",
              "      <td>41.583333</td>\n",
              "    </tr>\n",
              "    <tr>\n",
              "      <th>4</th>\n",
              "      <td>30</td>\n",
              "      <td>6</td>\n",
              "      <td>30</td>\n",
              "      <td>38.833333</td>\n",
              "    </tr>\n",
              "    <tr>\n",
              "      <th>5</th>\n",
              "      <td>50</td>\n",
              "      <td>2</td>\n",
              "      <td>50</td>\n",
              "      <td>20.050000</td>\n",
              "    </tr>\n",
              "    <tr>\n",
              "      <th>6</th>\n",
              "      <td>30</td>\n",
              "      <td>3</td>\n",
              "      <td>30</td>\n",
              "      <td>21.833333</td>\n",
              "    </tr>\n",
              "    <tr>\n",
              "      <th>7</th>\n",
              "      <td>40</td>\n",
              "      <td>8</td>\n",
              "      <td>40</td>\n",
              "      <td>17.812500</td>\n",
              "    </tr>\n",
              "    <tr>\n",
              "      <th>8</th>\n",
              "      <td>20</td>\n",
              "      <td>5</td>\n",
              "      <td>20</td>\n",
              "      <td>23.125000</td>\n",
              "    </tr>\n",
              "    <tr>\n",
              "      <th>9</th>\n",
              "      <td>50</td>\n",
              "      <td>3</td>\n",
              "      <td>50</td>\n",
              "      <td>8.750000</td>\n",
              "    </tr>\n",
              "  </tbody>\n",
              "</table>\n",
              "</div>\n",
              "      <button class=\"colab-df-convert\" onclick=\"convertToInteractive('df-4cf065fa-d582-4830-9c91-72c64b9e193d')\"\n",
              "              title=\"Convert this dataframe to an interactive table.\"\n",
              "              style=\"display:none;\">\n",
              "        \n",
              "  <svg xmlns=\"http://www.w3.org/2000/svg\" height=\"24px\"viewBox=\"0 0 24 24\"\n",
              "       width=\"24px\">\n",
              "    <path d=\"M0 0h24v24H0V0z\" fill=\"none\"/>\n",
              "    <path d=\"M18.56 5.44l.94 2.06.94-2.06 2.06-.94-2.06-.94-.94-2.06-.94 2.06-2.06.94zm-11 1L8.5 8.5l.94-2.06 2.06-.94-2.06-.94L8.5 2.5l-.94 2.06-2.06.94zm10 10l.94 2.06.94-2.06 2.06-.94-2.06-.94-.94-2.06-.94 2.06-2.06.94z\"/><path d=\"M17.41 7.96l-1.37-1.37c-.4-.4-.92-.59-1.43-.59-.52 0-1.04.2-1.43.59L10.3 9.45l-7.72 7.72c-.78.78-.78 2.05 0 2.83L4 21.41c.39.39.9.59 1.41.59.51 0 1.02-.2 1.41-.59l7.78-7.78 2.81-2.81c.8-.78.8-2.07 0-2.86zM5.41 20L4 18.59l7.72-7.72 1.47 1.35L5.41 20z\"/>\n",
              "  </svg>\n",
              "      </button>\n",
              "      \n",
              "  <style>\n",
              "    .colab-df-container {\n",
              "      display:flex;\n",
              "      flex-wrap:wrap;\n",
              "      gap: 12px;\n",
              "    }\n",
              "\n",
              "    .colab-df-convert {\n",
              "      background-color: #E8F0FE;\n",
              "      border: none;\n",
              "      border-radius: 50%;\n",
              "      cursor: pointer;\n",
              "      display: none;\n",
              "      fill: #1967D2;\n",
              "      height: 32px;\n",
              "      padding: 0 0 0 0;\n",
              "      width: 32px;\n",
              "    }\n",
              "\n",
              "    .colab-df-convert:hover {\n",
              "      background-color: #E2EBFA;\n",
              "      box-shadow: 0px 1px 2px rgba(60, 64, 67, 0.3), 0px 1px 3px 1px rgba(60, 64, 67, 0.15);\n",
              "      fill: #174EA6;\n",
              "    }\n",
              "\n",
              "    [theme=dark] .colab-df-convert {\n",
              "      background-color: #3B4455;\n",
              "      fill: #D2E3FC;\n",
              "    }\n",
              "\n",
              "    [theme=dark] .colab-df-convert:hover {\n",
              "      background-color: #434B5C;\n",
              "      box-shadow: 0px 1px 3px 1px rgba(0, 0, 0, 0.15);\n",
              "      filter: drop-shadow(0px 1px 2px rgba(0, 0, 0, 0.3));\n",
              "      fill: #FFFFFF;\n",
              "    }\n",
              "  </style>\n",
              "\n",
              "      <script>\n",
              "        const buttonEl =\n",
              "          document.querySelector('#df-4cf065fa-d582-4830-9c91-72c64b9e193d button.colab-df-convert');\n",
              "        buttonEl.style.display =\n",
              "          google.colab.kernel.accessAllowed ? 'block' : 'none';\n",
              "\n",
              "        async function convertToInteractive(key) {\n",
              "          const element = document.querySelector('#df-4cf065fa-d582-4830-9c91-72c64b9e193d');\n",
              "          const dataTable =\n",
              "            await google.colab.kernel.invokeFunction('convertToInteractive',\n",
              "                                                     [key], {});\n",
              "          if (!dataTable) return;\n",
              "\n",
              "          const docLinkHtml = 'Like what you see? Visit the ' +\n",
              "            '<a target=\"_blank\" href=https://colab.research.google.com/notebooks/data_table.ipynb>data table notebook</a>'\n",
              "            + ' to learn more about interactive tables.';\n",
              "          element.innerHTML = '';\n",
              "          dataTable['output_type'] = 'display_data';\n",
              "          await google.colab.output.renderOutput(dataTable, element);\n",
              "          const docLink = document.createElement('div');\n",
              "          docLink.innerHTML = docLinkHtml;\n",
              "          element.appendChild(docLink);\n",
              "        }\n",
              "      </script>\n",
              "    </div>\n",
              "  </div>\n",
              "  "
            ]
          },
          "metadata": {},
          "execution_count": 113
        }
      ]
    },
    {
      "cell_type": "markdown",
      "source": [
        "* Как функция"
      ],
      "metadata": {
        "id": "w5fZwqnnkF5w"
      }
    },
    {
      "cell_type": "code",
      "source": [
        "def add_discount_to_df(df, price):\n",
        "  discount, max_discount = create_disсount_v1(df, 'Скидка', 'Вес скидки', price)\n",
        "  weight = price * discount / 100\n",
        "  df = pd.concat([pd.DataFrame([[price, discount, weight, max_discount]], columns=df.columns), df], ignore_index=True)"
      ],
      "metadata": {
        "id": "xujDhwurkCND"
      },
      "execution_count": null,
      "outputs": []
    }
  ]
}